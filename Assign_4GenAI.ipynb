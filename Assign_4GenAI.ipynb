{
  "nbformat": 4,
  "nbformat_minor": 0,
  "metadata": {
    "colab": {
      "provenance": []
    },
    "kernelspec": {
      "name": "python3",
      "display_name": "Python 3"
    },
    "language_info": {
      "name": "python"
    }
  },
  "cells": [
    {
      "cell_type": "markdown",
      "source": [
        "**Asssignment # 4**"
      ],
      "metadata": {
        "id": "UTJVqPyfG21N"
      }
    },
    {
      "cell_type": "markdown",
      "source": [
        "**Task # 1**"
      ],
      "metadata": {
        "id": "d1HXK7ykG_DO"
      }
    },
    {
      "cell_type": "code",
      "execution_count": null,
      "metadata": {
        "colab": {
          "base_uri": "https://localhost:8080/"
        },
        "id": "3EDniPTsGvcZ",
        "outputId": "4ae3985a-0f82-4ae0-f6bb-2ff9e9df53d4"
      },
      "outputs": [
        {
          "output_type": "stream",
          "name": "stdout",
          "text": [
            "Enter numbers separated by spaces: 4 9 -2 -3 4 9 8 10 11 12 13 14\n",
            "Smallest number: -3.0\n",
            "Largest number: 14.0\n"
          ]
        }
      ],
      "source": [
        "# Get input from the user and convert it to a list of numbers\n",
        "user_input = input(\"Enter numbers separated by spaces: \")\n",
        "numbers = [float(num) for num in user_input.split()]\n",
        "\n",
        "# Check if the list is not empty\n",
        "if not numbers:\n",
        "    print(\"The list is empty.\")\n",
        "else:\n",
        "    # Initialize smallest and largest with the first element\n",
        "    smallest = largest = numbers[0]\n",
        "\n",
        "    # Iterate through the list to find smallest and largest\n",
        "    for num in numbers[1:]:\n",
        "        if num > largest:\n",
        "            largest = num\n",
        "        if num < smallest:\n",
        "            smallest = num\n",
        "\n",
        "    print(\"Smallest number:\", smallest)\n",
        "    print(\"Largest number:\", largest)"
      ]
    },
    {
      "cell_type": "markdown",
      "source": [
        "**Task # 2**"
      ],
      "metadata": {
        "id": "KdTT234QHzeW"
      }
    },
    {
      "cell_type": "code",
      "source": [
        "def is_palindrome(s):\n",
        "    return s == s[::-1]\n",
        "\n",
        "def filter_palindromes(strings):\n",
        "    return [s for s in strings if is_palindrome(s)]\n",
        "\n",
        "# Example usage\n",
        "input_list = [\"madam\", \"racecar\", \"hello\", \"python\"]\n",
        "output_list = filter_palindromes(input_list)\n",
        "print(output_list)  # Output: ['madam', 'racecar']"
      ],
      "metadata": {
        "colab": {
          "base_uri": "https://localhost:8080/"
        },
        "id": "zyymTlCGHiSl",
        "outputId": "cddf40b2-191b-410a-a3f2-6cd4bdcf8801"
      },
      "execution_count": null,
      "outputs": [
        {
          "output_type": "stream",
          "name": "stdout",
          "text": [
            "['madam', 'racecar']\n"
          ]
        }
      ]
    },
    {
      "cell_type": "markdown",
      "source": [
        "**Task #3**"
      ],
      "metadata": {
        "id": "MGiHoyIRGwX1"
      }
    },
    {
      "cell_type": "code",
      "source": [
        "def get_positive_float(prompt):\n",
        "    while True:\n",
        "        try:\n",
        "            value = float(input(prompt))\n",
        "            if value <= 0:\n",
        "                raise ValueError(\"Value must be greater than zero.\")\n",
        "            return value\n",
        "        except ValueError as e:\n",
        "            print(f\"Invalid input: {e}. Please enter a valid number.\")\n",
        "\n",
        "def calculate_bmi(weight, height):\n",
        "    return weight / (height ** 2)\n",
        "\n",
        "def determine_bmi_category(bmi):\n",
        "    if bmi < 18.5:\n",
        "        return \"Underweight\"\n",
        "    elif 18.5 <= bmi < 25:\n",
        "        return \"Normal weight\"\n",
        "    elif 25 <= bmi < 30:\n",
        "        return \"Overweight\"\n",
        "    else:\n",
        "        return \"Obese\"\n",
        "\n",
        "def main():\n",
        "    print(\"Welcome to the BMI Calculator!\")\n",
        "\n",
        "    weight = get_positive_float(\"Enter your weight (kg): \")\n",
        "    height = get_positive_float(\"Enter your height (m): \")\n",
        "\n",
        "    bmi = calculate_bmi(weight, height)\n",
        "    category = determine_bmi_category(bmi)\n",
        "\n",
        "    print(f\"\\nYour BMI is: {bmi:.2f}\")\n",
        "    print(f\"Category: {category}\")\n",
        "\n",
        "if __name__ == \"__main__\":\n",
        "    main()"
      ],
      "metadata": {
        "colab": {
          "base_uri": "https://localhost:8080/"
        },
        "id": "F4AcDjXhLiPr",
        "outputId": "86199dc2-b207-4242-d2fd-9df3c2c3ba5d"
      },
      "execution_count": 3,
      "outputs": [
        {
          "output_type": "stream",
          "name": "stdout",
          "text": [
            "Welcome to the BMI Calculator!\n",
            "Enter your weight (kg): 120\n",
            "Enter your height (m): 1.9\n",
            "\n",
            "Your BMI is: 33.24\n",
            "Category: Obese\n"
          ]
        }
      ]
    },
    {
      "cell_type": "markdown",
      "source": [
        "**Task #4**"
      ],
      "metadata": {
        "id": "uaXdfm-1OjCR"
      }
    },
    {
      "cell_type": "code",
      "source": [
        "def is_leap_year(year):\n",
        "    \"\"\"\n",
        "    Returns True if the given year is a leap year, otherwise False.\n",
        "    A year is a leap year if:\n",
        "    - It is divisible by 4, and\n",
        "    - It is not divisible by 100, unless\n",
        "    - It is also divisible by 400.\n",
        "    \"\"\"\n",
        "    return (year % 4 == 0 and (year % 100 != 0 or year % 400 == 0))\n",
        "def print_leap_years(start_year, end_year):\n",
        "    \"\"\"\n",
        "    Prints all leap years between start_year and end_year (inclusive).\n",
        "    \"\"\"\n",
        "    for year in range(start_year, end_year + 1):\n",
        "        if is_leap_year(year):\n",
        "            print(year)\n",
        "start = 2000\n",
        "end = 2025\n",
        "print(f\"Leap years between {start} and {end}:\")\n",
        "print_leap_years(start, end)"
      ],
      "metadata": {
        "colab": {
          "base_uri": "https://localhost:8080/"
        },
        "id": "hrJ8QqCAOgZa",
        "outputId": "edd313d0-fa99-438a-8610-0f234cb21179"
      },
      "execution_count": 4,
      "outputs": [
        {
          "output_type": "stream",
          "name": "stdout",
          "text": [
            "Leap years between 2000 and 2025:\n",
            "2000\n",
            "2004\n",
            "2008\n",
            "2012\n",
            "2016\n",
            "2020\n",
            "2024\n"
          ]
        }
      ]
    },
    {
      "cell_type": "markdown",
      "source": [
        "**Task # 5**"
      ],
      "metadata": {
        "id": "C8aCTQpcPLMh"
      }
    },
    {
      "cell_type": "code",
      "source": [
        "def count_vowels_consonants(input_string):\n",
        "    vowels = \"aeiouAEIOU\"\n",
        "    vowel_count = 0\n",
        "    consonant_count = 0\n",
        "\n",
        "    for char in input_string:\n",
        "        if char.isalpha():  # Check if the character is a letter\n",
        "            if char in vowels:\n",
        "                vowel_count += 1\n",
        "            else:\n",
        "                consonant_count += 1\n",
        "\n",
        "    return vowel_count, consonant_count\n",
        "\n",
        "# Test the function with user input\n",
        "user_input = input(\"Enter a string: \")\n",
        "vowels, consonants = count_vowels_consonants(user_input)\n",
        "\n",
        "print(f\"Vowels: {vowels}\")\n",
        "print(f\"Consonants: {consonants}\")"
      ],
      "metadata": {
        "colab": {
          "base_uri": "https://localhost:8080/"
        },
        "id": "Ms5DA0CoPSdh",
        "outputId": "484f1da1-97a5-4037-d09a-3d644c0a6421"
      },
      "execution_count": 5,
      "outputs": [
        {
          "output_type": "stream",
          "name": "stdout",
          "text": [
            "Enter a string: Masroor\n",
            "Vowels: 3\n",
            "Consonants: 4\n"
          ]
        }
      ]
    },
    {
      "cell_type": "markdown",
      "source": [
        "**Task #6**"
      ],
      "metadata": {
        "id": "WWseDLgrQHtY"
      }
    },
    {
      "cell_type": "code",
      "source": [
        "import re\n",
        "from collections import Counter\n",
        "\n",
        "def count_ip_addresses(log_file_path):\n",
        "    # Define a regular expression pattern to match IP addresses\n",
        "    ip_pattern = r'(\\d{1,3}\\.\\d{1,3}\\.\\d{1,3}\\.\\d{1,3})'\n",
        "\n",
        "    # Initialize a Counter to store IP address counts\n",
        "    ip_counter = Counter()\n",
        "\n",
        "    # Open the log file and process each line\n",
        "    with open(log_file_path, 'r') as file:\n",
        "        for line in file:\n",
        "            # Search for an IP address in the line\n",
        "            match = re.match(ip_pattern, line)\n",
        "            if match:\n",
        "                ip = match.group(1)\n",
        "                ip_counter[ip] += 1\n",
        "\n",
        "    # Get the top 3 most common IP addresses\n",
        "    top_ips = ip_counter.most_common(3)\n",
        "\n",
        "    # Print the results\n",
        "    print(\"Top 3 IP addresses:\")\n",
        "    for ip, count in top_ips:\n",
        "        print(f\"{ip}: {count} times\")\n",
        "\n",
        "# Example usage\n",
        "log_file_path = '/content/acccess_log.txt'  # Replace with your log file path\n",
        "count_ip_addresses(log_file_path)"
      ],
      "metadata": {
        "colab": {
          "base_uri": "https://localhost:8080/"
        },
        "id": "qy6S-W2eQK8Y",
        "outputId": "2719372c-9829-4f37-cf4d-a05f6c4e6ad7"
      },
      "execution_count": 11,
      "outputs": [
        {
          "output_type": "stream",
          "name": "stdout",
          "text": [
            "Top 3 IP addresses:\n",
            "192.168.0.1: 5 times\n",
            "192.171.0.2: 2 times\n",
            "192.170.0.2: 1 times\n"
          ]
        }
      ]
    },
    {
      "cell_type": "markdown",
      "source": [
        "**Task # 7**"
      ],
      "metadata": {
        "id": "Z0hdtO5BTF8e"
      }
    },
    {
      "cell_type": "code",
      "source": [
        "def calculate_averages(input_file, output_file):\n",
        "    try:\n",
        "        with open(input_file, 'r') as infile, open(output_file, 'w') as outfile:\n",
        "            for line in infile:\n",
        "                # Split the line into name and marks\n",
        "                parts = line.strip().split(',')\n",
        "                name = parts[0].strip()\n",
        "                marks = list(map(int, parts[1:]))\n",
        "\n",
        "                # Calculate the average\n",
        "                average = sum(marks) / len(marks)\n",
        "\n",
        "                # Write the result to the output file\n",
        "                outfile.write(f\"{name}: {average:.2f}\\n\")\n",
        "\n",
        "        print(f\"Average marks have been written to {output_file}\")\n",
        "        with open(output_file, 'r') as output_filing:\n",
        "             print(output_filing.read())\n",
        "    except FileNotFoundError:\n",
        "        print(f\"Error: The file {input_file} was not found.\")\n",
        "    except Exception as e:\n",
        "        print(f\"An error occurred: {e}\")\n",
        "\n",
        "# Usage\n",
        "calculate_averages('students.txt', 'averages.txt')"
      ],
      "metadata": {
        "colab": {
          "base_uri": "https://localhost:8080/"
        },
        "id": "A42DYYVcTLId",
        "outputId": "45b4e3ff-20ef-4530-a614-d65e6dee9053"
      },
      "execution_count": 14,
      "outputs": [
        {
          "output_type": "stream",
          "name": "stdout",
          "text": [
            "Average marks have been written to averages.txt\n",
            "Ali: 84.67\n",
            "Haider: 67.33\n",
            "Hussain: 96.00\n",
            "Hassan: 64.33\n",
            "\n"
          ]
        }
      ]
    },
    {
      "cell_type": "markdown",
      "source": [
        "**Task # 8**"
      ],
      "metadata": {
        "id": "n5PSv--9Vj3N"
      }
    },
    {
      "cell_type": "code",
      "source": [
        "def clean_file(input_filename, output_filename=\"cleaned.txt\"):\n",
        "    seen_lines = set()\n",
        "    cleaned_lines = []\n",
        "\n",
        "    with open(input_filename, 'r', encoding='utf-8') as infile:\n",
        "        for line in infile:\n",
        "            stripped = line.strip()\n",
        "            if stripped and stripped not in seen_lines:\n",
        "                seen_lines.add(stripped)\n",
        "                cleaned_lines.append(line.rstrip())  # preserve original formatting (e.g., spacing)\n",
        "\n",
        "    with open(output_filename, 'w', encoding='utf-8') as outfile:\n",
        "        for line in cleaned_lines:\n",
        "            outfile.write(line + '\\n')\n",
        "\n",
        "    print(f\"Cleaned content written to '{output_filename}'.\")\n",
        "\n",
        "# Example usage\n",
        "clean_file(\"input.txt\")"
      ],
      "metadata": {
        "colab": {
          "base_uri": "https://localhost:8080/"
        },
        "id": "cK65HOd0VnM0",
        "outputId": "82a025ba-6e5d-4615-e366-b6675ea561ef"
      },
      "execution_count": 16,
      "outputs": [
        {
          "output_type": "stream",
          "name": "stdout",
          "text": [
            "Cleaned content written to 'cleaned.txt'.\n"
          ]
        }
      ]
    }
  ]
}
{
  "nbformat": 4,
  "nbformat_minor": 0,
  "metadata": {
    "colab": {
      "provenance": [],
      "gpuType": "T4"
    },
    "kernelspec": {
      "name": "python3",
      "display_name": "Python 3"
    },
    "language_info": {
      "name": "python"
    },
    "accelerator": "GPU"
  },
  "cells": [
    {
      "cell_type": "markdown",
      "source": [
        "**Q1**"
      ],
      "metadata": {
        "id": "CAJOME9w-33K"
      }
    },
    {
      "cell_type": "code",
      "source": [],
      "metadata": {
        "id": "XitCw5uD_DV6"
      },
      "execution_count": null,
      "outputs": []
    },
    {
      "cell_type": "code",
      "execution_count": 2,
      "metadata": {
        "colab": {
          "base_uri": "https://localhost:8080/"
        },
        "id": "Q-7AGhui8e21",
        "outputId": "10461874-c3d2-451c-aeec-295811028325"
      },
      "outputs": [
        {
          "output_type": "stream",
          "name": "stdout",
          "text": [
            "[5, 6, 11, 12, 13]\n"
          ]
        }
      ],
      "source": [
        "def insertion_sort(arr):\n",
        "    for i in range(1, len(arr)):\n",
        "        key = arr[i]\n",
        "        j = i - 1\n",
        "\n",
        "        # Move elements that are greater than key to one position ahead\n",
        "        while j >= 0 and arr[j] > key:\n",
        "            arr[j + 1] = arr[j]\n",
        "            j -= 1\n",
        "\n",
        "        # Insert key at the correct position\n",
        "        arr[j + 1] = key\n",
        "    return arr\n",
        "sorted = insertion_sort([12, 11, 13, 5, 6])\n",
        "print(sorted)"
      ]
    },
    {
      "cell_type": "markdown",
      "source": [
        "**Demonstration**"
      ],
      "metadata": {
        "id": "1pK0Z2jt_Wq8"
      }
    },
    {
      "cell_type": "code",
      "source": [
        "# Example list\n",
        "example_list = [9, 5, 1, 4, 3]\n",
        "\n",
        "# Call the insertion sort function\n",
        "sorted_list = insertion_sort(example_list.copy())\n",
        "\n",
        "print(\"Original list:\", example_list)\n",
        "print(\"Sorted list:\", sorted_list)"
      ],
      "metadata": {
        "colab": {
          "base_uri": "https://localhost:8080/"
        },
        "id": "oiBP8bgS_FCy",
        "outputId": "7d1e1f15-5d82-4d4b-e092-36507b80ffe4"
      },
      "execution_count": 3,
      "outputs": [
        {
          "output_type": "stream",
          "name": "stdout",
          "text": [
            "Original list: [9, 5, 1, 4, 3]\n",
            "Sorted list: [1, 3, 4, 5, 9]\n"
          ]
        }
      ]
    },
    {
      "cell_type": "markdown",
      "source": [
        "**Q2**"
      ],
      "metadata": {
        "id": "SI9D9XpiAqqp"
      }
    },
    {
      "cell_type": "code",
      "source": [
        "def insertion_sort(students):\n",
        "    # Perform insertion sort on the list of students\n",
        "    for i in range(1, len(students)):\n",
        "        key = students[i]\n",
        "        j = i - 1\n",
        "        while j >= 0 and key[1] > students[j][1]:\n",
        "            students[j + 1] = students[j]\n",
        "            j -= 1\n",
        "        students[j + 1] = key\n",
        "\n",
        "def get_top_performers():\n",
        "    # Get the number of students\n",
        "    num_students = int(input(\"Enter the number of students: \"))\n",
        "    students = []\n",
        "\n",
        "    # Input student names and marks\n",
        "    for _ in range(num_students):\n",
        "        name = input(\"Enter student's name: \")\n",
        "        marks = float(input(f\"Enter marks for {name}: \"))\n",
        "        students.append((name, marks))\n",
        "\n",
        "    # Sort students based on marks\n",
        "    insertion_sort(students)\n",
        "\n",
        "    # Display top 3 performers\n",
        "    print(\"\\nTop 3 Performers:\")\n",
        "    for i in range(min(3, len(students))):\n",
        "        print(f\"{i + 1}. {students[i][0]} - {students[i][1]}\")\n",
        "\n",
        "# Run the program\n",
        "get_top_performers()"
      ],
      "metadata": {
        "colab": {
          "base_uri": "https://localhost:8080/"
        },
        "id": "XjPjFMd3_gm5",
        "outputId": "159cd35a-1b6c-4a04-f06b-d06181d48e93"
      },
      "execution_count": 5,
      "outputs": [
        {
          "output_type": "stream",
          "name": "stdout",
          "text": [
            "Enter the number of students: 5\n",
            "Enter student's name: mas\n",
            "Enter marks for mas: 52\n",
            "Enter student's name: Man\n",
            "Enter marks for Man: 65\n",
            "Enter student's name: Meh\n",
            "Enter marks for Meh: 75\n",
            "Enter student's name: zahi\n",
            "Enter marks for zahi: 85\n",
            "Enter student's name: zakir\n",
            "Enter marks for zakir: 80\n",
            "\n",
            "Top 3 Performers:\n",
            "1. zahi - 85.0\n",
            "2. zakir - 80.0\n",
            "3. Meh - 75.0\n"
          ]
        }
      ]
    },
    {
      "cell_type": "markdown",
      "source": [
        "**Q3**"
      ],
      "metadata": {
        "id": "FRWF1V4SBwfX"
      }
    },
    {
      "cell_type": "code",
      "source": [
        "def calculate_electricity_bill(units,TVs):\n",
        "    bill = 0\n",
        "\n",
        "    # Define the unit ranges and corresponding rates\n",
        "    unit_slabs = [\n",
        "        (100, 9.43),\n",
        "        (100, 10.29),\n",
        "        (100, 12.43),\n",
        "        (100, 14.43),\n",
        "        (100, 16.43),\n",
        "        (100, 18.43),\n",
        "        (100, 20.43)\n",
        "    ]\n",
        "    remaining_units = units\n",
        "    #bill = remaining_units*fuel_cost\n",
        "    fuel_cost =3.7\n",
        "    elec_duty = 0.015\n",
        "\n",
        "    for slab_units, rate in unit_slabs:\n",
        "        if remaining_units > 0:\n",
        "            current_units = min(slab_units, remaining_units)\n",
        "            bill += (current_units* rate)\n",
        "            remaining_units -= current_units\n",
        "        else:\n",
        "            break\n",
        "    #print(remaining_units)\n",
        "    #print(current_units)\n",
        "    #bill = bill + bill*elec_duty\n",
        "    #bill = bill+TVs*35\n",
        "   # If more than 700 units, apply Rs. 22.43 to the rest\n",
        "    if remaining_units > 700:\n",
        "        bill += remaining_units * 22.43\n",
        "\n",
        "    bill = bill + bill*elec_duty\n",
        "    bill = bill + units*fuel_cost\n",
        "    bill = bill+TVs*35\n",
        "\n",
        "    if bill>25000:\n",
        "       bill += bill(.075)\n",
        "\n",
        "    return bill\n",
        "\n",
        "\n",
        "def main():\n",
        "    try:\n",
        "        units = int(input(\"Enter the number of electricity units consumed: \"))\n",
        "        if units < 0:\n",
        "            print(\"Units cannot be negative.\")\n",
        "            return\n",
        "        TVs= int(input(\"Enter number of TVs\"))\n",
        "\n",
        "        total_bill = calculate_electricity_bill(units,TVs)\n",
        "        print(f\"Your total electricity bill is: Rs. {total_bill:.2f}\")\n",
        "\n",
        "    except ValueError:\n",
        "        print(\"Invalid input. Please enter a whole number for units.\")\n",
        "\n",
        "if __name__ == \"__main__\":\n",
        "    main()\n"
      ],
      "metadata": {
        "colab": {
          "base_uri": "https://localhost:8080/"
        },
        "id": "rQENYnviB0HA",
        "outputId": "d51939f9-d4ed-4325-a5da-b51a53f55584"
      },
      "execution_count": 30,
      "outputs": [
        {
          "output_type": "stream",
          "name": "stdout",
          "text": [
            "Enter the number of electricity units consumed: 450\n",
            "Enter number of TVs2\n",
            "Your total electricity bill is: Rs. 7296.69\n"
          ]
        }
      ]
    },
    {
      "cell_type": "markdown",
      "source": [
        "**Q4**"
      ],
      "metadata": {
        "id": "YiTvO_nnVvI-"
      }
    },
    {
      "cell_type": "code",
      "source": [
        "def calculate_eutos_score(basophil_percent, spleen_size_cm):\n",
        "    eutos_score = 7 * basophil_percent + 4 * spleen_size_cm\n",
        "    return eutos_score\n",
        "\n",
        "def main():\n",
        "    try:\n",
        "        # Get user input\n",
        "        basophil_percent = float(input(\"Enter basophil percentage:(0 to 25) \"))\n",
        "        spleen_size_cm = float(input(\"Enter spleen size (in cm below costal margin):(0 to 40) \"))\n",
        "\n",
        "        # Validation\n",
        "        if (basophil_percent < 0 or basophil_percent > 25) or (spleen_size_cm <0 or spleen_size_cm > 40):\n",
        "            print(\"Values should be in given range please.\")\n",
        "            return\n",
        "\n",
        "        # Calculate and display EUTOS score\n",
        "        score = calculate_eutos_score(basophil_percent, spleen_size_cm)\n",
        "        print(f\"EUTOS Score: {score:.2f}\")\n",
        "    except ValueError:\n",
        "        print(\"Invalid input. Please enter numeric values.\")\n",
        "\n",
        "if __name__ == \"__main__\":\n",
        "    main()"
      ],
      "metadata": {
        "colab": {
          "base_uri": "https://localhost:8080/"
        },
        "id": "78vduf85VGCr",
        "outputId": "57f9893a-346e-40ce-b87f-6057fc6ffbab"
      },
      "execution_count": 33,
      "outputs": [
        {
          "output_type": "stream",
          "name": "stdout",
          "text": [
            "Enter basophil percentage:(0 to 25) 24\n",
            "Enter spleen size (in cm below costal margin):(0 to 40) 39\n",
            "EUTOS Score: 324.00\n"
          ]
        }
      ]
    }
  ]
}